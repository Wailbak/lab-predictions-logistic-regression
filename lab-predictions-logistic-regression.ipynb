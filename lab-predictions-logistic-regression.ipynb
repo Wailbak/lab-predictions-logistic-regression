{
 "cells": [
  {
   "cell_type": "markdown",
   "id": "6f684255",
   "metadata": {},
   "source": [
    "_This Part of coding was executed in MySQL 8.0 environment_"
   ]
  },
  {
   "cell_type": "markdown",
   "id": "99e1f234",
   "metadata": {},
   "source": [
    "# Step 1: Extracting relevant data for the prediction model.\n",
    "We'll consider film features (e.g., title, release year, rating, length)\n",
    "and rental features (e.g., rental rate, number of times rented, last rental date).\n",
    "\n",
    "\n",
    "\n",
    "\n",
    "\n",
    "\n",
    "\n",
    "\n"
   ]
  },
  {
   "cell_type": "raw",
   "id": "272a9467",
   "metadata": {},
   "source": [
    "SELECT\n",
    "    f.film_id,\n",
    "    f.title,\n",
    "    f.release_year,\n",
    "    f.rating,\n",
    "    f.length,\n",
    "    f.rental_rate,\n",
    "    COUNT(r.rental_id) AS number_of_rentals,\n",
    "    MAX(r.rental_date) AS last_rental_date\n",
    "FROM\n",
    "    film f\n",
    "LEFT JOIN inventory i ON f.film_id = i.film_id\n",
    "LEFT JOIN rental r ON i.inventory_id = r.inventory_id\n",
    "GROUP BY f.film_id;\n"
   ]
  },
  {
   "cell_type": "markdown",
   "id": "154d6899",
   "metadata": {},
   "source": [
    "# Step 2: Creating Target Variable\n",
    "The target variable will indicate whether a film was rented last month.\n",
    "This requires knowing the most recent rental date for each film and checking if it falls within the last month."
   ]
  },
  {
   "cell_type": "raw",
   "id": "74dc0099",
   "metadata": {},
   "source": [
    "SELECT\n",
    "    f.film_id,\n",
    "    (MAX(r.rental_date) >= DATE_SUB(CURRENT_DATE(), INTERVAL 1 MONTH)) AS rented_last_month\n",
    "FROM\n",
    "    film f\n",
    "LEFT JOIN inventory i ON f.film_id = i.film_id\n",
    "LEFT JOIN rental r ON i.inventory_id = r.inventory_id\n",
    "GROUP BY f.film_id;\n"
   ]
  },
  {
   "cell_type": "markdown",
   "id": "36f6e0fc",
   "metadata": {},
   "source": [
    "# Step 3: Data Preprocessing"
   ]
  },
  {
   "cell_type": "code",
   "execution_count": 3,
   "id": "d555525e",
   "metadata": {},
   "outputs": [
    {
     "data": {
      "text/html": [
       "<div>\n",
       "<style scoped>\n",
       "    .dataframe tbody tr th:only-of-type {\n",
       "        vertical-align: middle;\n",
       "    }\n",
       "\n",
       "    .dataframe tbody tr th {\n",
       "        vertical-align: top;\n",
       "    }\n",
       "\n",
       "    .dataframe thead th {\n",
       "        text-align: right;\n",
       "    }\n",
       "</style>\n",
       "<table border=\"1\" class=\"dataframe\">\n",
       "  <thead>\n",
       "    <tr style=\"text-align: right;\">\n",
       "      <th></th>\n",
       "      <th>film_id</th>\n",
       "      <th>title</th>\n",
       "      <th>release_year</th>\n",
       "      <th>rating</th>\n",
       "      <th>length</th>\n",
       "      <th>rental_rate</th>\n",
       "      <th>number_of_rentals</th>\n",
       "      <th>last_rental_date</th>\n",
       "    </tr>\n",
       "  </thead>\n",
       "  <tbody>\n",
       "    <tr>\n",
       "      <th>0</th>\n",
       "      <td>1</td>\n",
       "      <td>ACADEMY DINOSAUR</td>\n",
       "      <td>2006</td>\n",
       "      <td>PG</td>\n",
       "      <td>86</td>\n",
       "      <td>0.99</td>\n",
       "      <td>2</td>\n",
       "      <td>2005-05-30 20:21:07</td>\n",
       "    </tr>\n",
       "    <tr>\n",
       "      <th>1</th>\n",
       "      <td>2</td>\n",
       "      <td>ACE GOLDFINGER</td>\n",
       "      <td>2006</td>\n",
       "      <td>G</td>\n",
       "      <td>48</td>\n",
       "      <td>4.99</td>\n",
       "      <td>0</td>\n",
       "      <td>NaT</td>\n",
       "    </tr>\n",
       "    <tr>\n",
       "      <th>2</th>\n",
       "      <td>3</td>\n",
       "      <td>ADAPTATION HOLES</td>\n",
       "      <td>2006</td>\n",
       "      <td>NC-17</td>\n",
       "      <td>50</td>\n",
       "      <td>2.99</td>\n",
       "      <td>0</td>\n",
       "      <td>NaT</td>\n",
       "    </tr>\n",
       "    <tr>\n",
       "      <th>3</th>\n",
       "      <td>4</td>\n",
       "      <td>AFFAIR PREJUDICE</td>\n",
       "      <td>2006</td>\n",
       "      <td>G</td>\n",
       "      <td>117</td>\n",
       "      <td>2.99</td>\n",
       "      <td>2</td>\n",
       "      <td>2005-05-31 00:06:02</td>\n",
       "    </tr>\n",
       "    <tr>\n",
       "      <th>4</th>\n",
       "      <td>5</td>\n",
       "      <td>AFRICAN EGG</td>\n",
       "      <td>2006</td>\n",
       "      <td>G</td>\n",
       "      <td>130</td>\n",
       "      <td>2.99</td>\n",
       "      <td>1</td>\n",
       "      <td>2005-05-28 07:53:38</td>\n",
       "    </tr>\n",
       "  </tbody>\n",
       "</table>\n",
       "</div>"
      ],
      "text/plain": [
       "   film_id             title  release_year rating  length  rental_rate  \\\n",
       "0        1  ACADEMY DINOSAUR          2006     PG      86         0.99   \n",
       "1        2    ACE GOLDFINGER          2006      G      48         4.99   \n",
       "2        3  ADAPTATION HOLES          2006  NC-17      50         2.99   \n",
       "3        4  AFFAIR PREJUDICE          2006      G     117         2.99   \n",
       "4        5       AFRICAN EGG          2006      G     130         2.99   \n",
       "\n",
       "   number_of_rentals    last_rental_date  \n",
       "0                  2 2005-05-30 20:21:07  \n",
       "1                  0                 NaT  \n",
       "2                  0                 NaT  \n",
       "3                  2 2005-05-31 00:06:02  \n",
       "4                  1 2005-05-28 07:53:38  "
      ]
     },
     "execution_count": 3,
     "metadata": {},
     "output_type": "execute_result"
    }
   ],
   "source": [
    "import pandas as pd\n",
    "from datetime import datetime, timedelta\n",
    "\n",
    "\n",
    "\n",
    "# Loading necessary CSV files into Pandas dataframes\n",
    "films_df = pd.read_csv(r'C:\\Users\\wailb\\Documents\\Sakila Databse CSV\\film.csv')\n",
    "inventory_df = pd.read_csv(r'C:\\Users\\wailb\\Documents\\Sakila Databse CSV\\inventory.csv')\n",
    "rental_df = pd.read_csv(r'C:\\Users\\wailb\\Documents\\Sakila Databse CSV\\rental.csv')\n",
    "\n",
    "\n",
    "# Converting rental_date to datetime\n",
    "rental_df['rental_date'] = pd.to_datetime(rental_df['rental_date'])\n",
    "\n",
    "# Merging to simulate the join operation in SQL\n",
    "merged_df = films_df.merge(inventory_df, on='film_id', how='left').merge(rental_df, on='inventory_id', how='left')\n",
    "\n",
    "# Calculating features: number of rentals and last rental date for each film\n",
    "film_features_df = merged_df.groupby('film_id').agg(\n",
    "    title=('title', 'first'),\n",
    "    release_year=('release_year', 'first'),\n",
    "    rating=('rating', 'first'),\n",
    "    length=('length', 'first'),\n",
    "    rental_rate=('rental_rate', 'first'),\n",
    "    number_of_rentals=('rental_id', 'count'),\n",
    "    last_rental_date=('rental_date', 'max')\n",
    ").reset_index()\n",
    "\n",
    "# Displaying few rows of the dataframe\n",
    "film_features_df.head()\n"
   ]
  },
  {
   "cell_type": "markdown",
   "id": "0a0d7379",
   "metadata": {},
   "source": [
    "# Step 4: Picking the Target Variable\n",
    "###            + Creating Predictive Model (Logistic Regression)\n",
    " \n",
    "For the target variable, we'll determine if each film was rented last month.\n",
    "This step involves comparing the 'last_rental_date' to the date range of the last month."
   ]
  },
  {
   "cell_type": "code",
   "execution_count": 4,
   "id": "b4214bbb",
   "metadata": {},
   "outputs": [
    {
     "data": {
      "text/plain": [
       "((1000, 8), (1000,))"
      ]
     },
     "execution_count": 4,
     "metadata": {},
     "output_type": "execute_result"
    }
   ],
   "source": [
    "from sklearn.preprocessing import OneHotEncoder, StandardScaler\n",
    "from sklearn.compose import ColumnTransformer\n",
    "from sklearn.pipeline import Pipeline\n",
    "\n",
    "# Seting the current date to the latest date in the rental data for simulation\n",
    "current_date = rental_df['rental_date'].max()\n",
    "\n",
    "# Defining a date far in the past for films never rented\n",
    "far_past_date = datetime(1900, 1, 1)\n",
    "\n",
    "# Filling missing last_rental_date with a date far in the past\n",
    "film_features_df['last_rental_date'].fillna(far_past_date, inplace=True)\n",
    "\n",
    "# Creating the target variable: 1 if rented last month, 0 otherwise\n",
    "film_features_df['rented_last_month'] = (film_features_df['last_rental_date'] >= (current_date - timedelta(days=30))).astype(int)\n",
    "\n",
    "# Preparing for preprocessing\n",
    "features_to_encode = ['rating']\n",
    "features_to_scale = ['length', 'rental_rate', 'number_of_rentals']\n",
    "\n",
    "# Preprocessing pipeline\n",
    "preprocessor = ColumnTransformer(\n",
    "    transformers=[\n",
    "        ('num', StandardScaler(), features_to_scale),\n",
    "        ('cat', OneHotEncoder(), features_to_encode)\n",
    "    ])\n",
    "\n",
    "# Fitting and transform the data\n",
    "X = film_features_df[features_to_scale + features_to_encode]\n",
    "y = film_features_df['rented_last_month']\n",
    "X_transformed = preprocessor.fit_transform(X)\n",
    "\n",
    "# Checking the shape of the transformed features and the target variable\n",
    "X_transformed.shape, y.shape\n"
   ]
  },
  {
   "cell_type": "markdown",
   "id": "62058dfc",
   "metadata": {},
   "source": [
    "# Step 5: Evaluating the model"
   ]
  },
  {
   "cell_type": "code",
   "execution_count": 5,
   "id": "e68ce861",
   "metadata": {},
   "outputs": [
    {
     "data": {
      "text/plain": [
       "(1.0,\n",
       " '              precision    recall  f1-score   support\\n\\n           0       1.00      1.00      1.00       173\\n           1       1.00      1.00      1.00        27\\n\\n    accuracy                           1.00       200\\n   macro avg       1.00      1.00      1.00       200\\nweighted avg       1.00      1.00      1.00       200\\n')"
      ]
     },
     "execution_count": 5,
     "metadata": {},
     "output_type": "execute_result"
    }
   ],
   "source": [
    "from sklearn.linear_model import LogisticRegression\n",
    "from sklearn.model_selection import train_test_split\n",
    "from sklearn.metrics import accuracy_score, classification_report\n",
    "\n",
    "# Split the data into training and testing sets\n",
    "X_train, X_test, y_train, y_test = train_test_split(X_transformed, y, test_size=0.2, random_state=42)\n",
    "\n",
    "# Initialize and train the logistic regression model\n",
    "logreg = LogisticRegression()\n",
    "logreg.fit(X_train, y_train)\n",
    "\n",
    "# Predict on the test set\n",
    "y_pred = logreg.predict(X_test)\n",
    "\n",
    "# Evaluate the model\n",
    "accuracy = accuracy_score(y_test, y_pred)\n",
    "report = classification_report(y_test, y_pred)\n",
    "\n",
    "accuracy, report"
   ]
  },
  {
   "cell_type": "code",
   "execution_count": 6,
   "id": "cede2da2",
   "metadata": {},
   "outputs": [],
   "source": [
    "## Accuracy: 100%\n",
    "## Precision, Recall, and F1-Score: 100% for both classes (rented last month vs. not rented)"
   ]
  },
  {
   "cell_type": "markdown",
   "id": "5bd37364",
   "metadata": {},
   "source": [
    "This might indicate an overly simplified model, especially in a real-world scenario where achieving 100% accuracy is highly unlikely.\n",
    "\n",
    "The simulation based on the latest date in the rental data as \"current\" might have contributed to this outcome.\n"
   ]
  },
  {
   "cell_type": "markdown",
   "id": "ca46b7e9",
   "metadata": {},
   "source": [
    "# Final Step: Using The Model"
   ]
  },
  {
   "cell_type": "code",
   "execution_count": 9,
   "id": "665ea168",
   "metadata": {},
   "outputs": [
    {
     "data": {
      "text/plain": [
       "('LIFE TWISTED', 'unlikely to be rented next month')"
      ]
     },
     "execution_count": 9,
     "metadata": {},
     "output_type": "execute_result"
    }
   ],
   "source": [
    "# Let's select a random sample from our original dataset to predict on\n",
    "sample_film_data = film_features_df.sample(n=1, random_state=42)\n",
    "\n",
    "# Extracting the relevant features for prediction (ensure the order matches the model's training data)\n",
    "sample_features = sample_film_data[features_to_scale + features_to_encode]\n",
    "\n",
    "# Preprocessing the sample film data\n",
    "sample_features_transformed = preprocessor.transform(sample_features)\n",
    "\n",
    "# Predicting the rental likelihood for the sample film\n",
    "predicted_rental_sample = logreg.predict(sample_features_transformed)\n",
    "\n",
    "# Preparing the prediction result for display\n",
    "prediction_result = \"likely to be rented next month\" if predicted_rental_sample[0] == 1 else \"unlikely to be rented next month\"\n",
    "\n",
    "# Displaying the film's title and the prediction result\n",
    "sample_film_data['title'].values[0], prediction_result\n"
   ]
  },
  {
   "cell_type": "code",
   "execution_count": null,
   "id": "baf4030d",
   "metadata": {},
   "outputs": [],
   "source": []
  }
 ],
 "metadata": {
  "kernelspec": {
   "display_name": "Python 3 (ipykernel)",
   "language": "python",
   "name": "python3"
  },
  "language_info": {
   "codemirror_mode": {
    "name": "ipython",
    "version": 3
   },
   "file_extension": ".py",
   "mimetype": "text/x-python",
   "name": "python",
   "nbconvert_exporter": "python",
   "pygments_lexer": "ipython3",
   "version": "3.11.5"
  }
 },
 "nbformat": 4,
 "nbformat_minor": 5
}
